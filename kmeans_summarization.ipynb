{
  "cells": [
    {
      "cell_type": "markdown",
      "metadata": {
        "id": "view-in-github",
        "colab_type": "text"
      },
      "source": [
        "<a href=\"https://colab.research.google.com/github/chungocchien/NLPtoturial/blob/main/kmeans_summarization.ipynb\" target=\"_parent\"><img src=\"https://colab.research.google.com/assets/colab-badge.svg\" alt=\"Open In Colab\"/></a>"
      ]
    },
    {
      "cell_type": "code",
      "execution_count": null,
      "id": "initial_id",
      "metadata": {
        "collapsed": true,
        "ExecuteTime": {
          "end_time": "2023-09-12T03:09:58.702579897Z",
          "start_time": "2023-09-12T03:09:58.174313555Z"
        },
        "id": "initial_id"
      },
      "outputs": [],
      "source": [
        "import pickle\n",
        "import numpy as np\n",
        "from pyvi import ViTokenizer"
      ]
    },
    {
      "cell_type": "code",
      "execution_count": null,
      "outputs": [],
      "source": [
        "\n",
        "#Load\n",
        "with open ('neg.pkl', 'rb') as fp:\n",
        "    contents = pickle.load(fp)"
      ],
      "metadata": {
        "ExecuteTime": {
          "end_time": "2023-09-12T03:09:58.922392545Z",
          "start_time": "2023-09-12T03:09:58.697099662Z"
        },
        "id": "3c44e99a9fade2fe"
      },
      "id": "3c44e99a9fade2fe"
    },
    {
      "cell_type": "code",
      "execution_count": null,
      "outputs": [],
      "source": [
        "contents_parsed = []\n",
        "for content in contents[0:10]:\n",
        "    contents_parsed.append(content.lower().strip())"
      ],
      "metadata": {
        "ExecuteTime": {
          "end_time": "2023-09-12T03:09:58.937322859Z",
          "start_time": "2023-09-12T03:09:58.922192848Z"
        },
        "id": "b04c7c4a7108e92f"
      },
      "id": "b04c7c4a7108e92f"
    },
    {
      "cell_type": "code",
      "execution_count": null,
      "outputs": [
        {
          "data": {
            "text/plain": "'Côn đồ khoác áo học trò  Nhiều người dân gần khu vực trường THPT Phan Đình Phùng (Phố Cửa Bắc, HN) chứng kiến cảnh 4 thanh thiếu niên ở độ tuổi học sinh quây đánh một nữ sinh gục ngã xuống vỉa hè. Nạn nhân là Thanh Hoài, học sinh lớp 12. Chuyện xảy ra ngày 5/3.  Bà nội Hoài cho biết, hai ngày sau đó, Hoài luôn ở trong trạng thái hoảng loạn không thể nói chuyện được. Đầu và mặt Hoài bị đánh bằng ống nước nên sưng đau, choáng váng, không ăn được gì và cũng không thể nói được nhiều.   Theo lời kể của Hoài và những người chứng kiến, bọn côn đồ không chỉ đấm đá vào mặt, bụng mà còn đá vào háng và vùng phía dưới, khiến việc vệ sinh hàng ngày rất khó khăn.   Nguyên nhân của sự việc bắt nguồn từ tính sĩ diện hão của một số kẻ 8X thích chơi trội, thích làm đại ca trong thiên hạ. Theo lời kể của những người chứng kiến, ngày 4/3, Hoài và Kiên gặp nhau ở trường và có vài lời qua lại.   Ngay ngày hôm sau, Kiên đã gọi bạn đến đánh Hoài ngay tại cổng trường với lý do \"đòi lại danh dự vì hôm qua bị xúc phạm\". Điều đáng nói thêm là, hành vi ấy lại diễn ra trước sự chứng kiến của khá nhiều người, trong đó có cả bạn cùng lớp của Hoài.   Không có hành động can ngăn, giúp đỡ. Chỉ có vài tiếng bất bình nho nhỏ đủ mình nghe, Hoài oằn mình chịu trận đòn khủng khiếp ngay trước cổng trường.  Câu chuyện của Hoài chỉ là một trong nhiều vụ bạo lực học đường diễn ra ở các trường THPT, thậm chí các trường THCS.   Chị Thanh, bán hàng ăn trước cổng trường THPT Chu Văn An cho biết: \"Chị bán ở đây đã 20 năm trời, thấy bọn nó \"xử\" nhau suốt ngày ấy mà. Quan tâm cũng không xuể. Chị chỉ để ý xem bọn nó có phá hàng của mình không, đã trả tiền chưa, chứ không thể nhớ nổi là đánh nhau như thế nào, vì chuyện gì được!\".   Vũ khí trong những vụ \"xử\" nhau này là bàn ghế, guốc cao gót, gậy, côn, tuýp nước, thậm chí dao... Đa số đối tượng tham gia đều ở độ tuổi 15-16.   Mạnh, thành viên của một băng chuyên \"gây náo nhiệt\" ở trường Trương Định đã \"giải nghệ\", cho biết: \"Trường nào cũng có một vài nhân vật cộm cán được gọi là \"người cầm trịch\", và ai muốn yên thân thì hãy nhớ mặt, nhớ tên những \"người cầm trịch\" ấy mà tránh cho xa\".   Dĩ nhiên, những kẻ thân thiết với những đàn anh, đàn chị như thế thì \"được nhờ trăm sự\". Có đứa nào dám sờ đến mình là lại gọi hội đến \"xử\". Có thấy ngứa mắt đứa nào là gọi người đến dằn mặt cảnh cáo.   Với cả một hệ thống có trên có dưới, \"xã hội đen nhí\" hoạt động như luật rừng. Chỉ một cú điện thoại, ngay lập tức cả hội sẽ có mặt để yểm trợ chiến hữu. Không cần biết lý do gì, ở đâu cũng không quan trọng, chỉ cần được chỉ điểm là đánh luôn.   Kiểu hẹn nhau ra địa điểm riêng \"nói chuyện\" xem ra ngày càng mất thì giờ. Những cuộc \"nói chuyện\" được thực hiện ngay trước cổng trường hoặc trong trường theo kiểu phủ đầu, thách thức cả Ban giám hiệu trường học.  Cá biệt có trường hợp hai hội \"xử\" nhau ở cổng trường cho đến khi có người phải vào cấp cứu mà vẫn chưa tha, ngày hôm sau lại kéo nhau vào bệnh viện gây sự tiếp.  Bác sĩ Phạm Quỳnh Trang, khoa Ngoại bệnh viện Saint Paul cho biết: \"Đã có nhiều trường hợp học sinh cấp III phải nhập viện vì là nạn nhân của bạo lực học đường. Mức độ nghiêm trọng của các vết thương là rất khác nhau và cũng không ít trường hợp, chúng tôi phải phẫu thuật ngay lập tức, nếu không sẽ đe doạ đến tính mạng\".  \"Số nạn nhân không hề giảm so với vài năm trước\", bác sĩ Trang nói thêm.    '"
          },
          "execution_count": 4,
          "metadata": {},
          "output_type": "execute_result"
        }
      ],
      "source": [
        "contents[0]"
      ],
      "metadata": {
        "ExecuteTime": {
          "end_time": "2023-09-12T03:09:58.939127626Z",
          "start_time": "2023-09-12T03:09:58.930097045Z"
        },
        "id": "19a92b98ee5439bd",
        "outputId": "14a991e9-b62e-447a-de1c-b2a43a577763"
      },
      "id": "19a92b98ee5439bd"
    },
    {
      "cell_type": "code",
      "execution_count": null,
      "outputs": [
        {
          "data": {
            "text/plain": "'côn đồ khoác áo học trò  nhiều người dân gần khu vực trường thpt phan đình phùng (phố cửa bắc, hn) chứng kiến cảnh 4 thanh thiếu niên ở độ tuổi học sinh quây đánh một nữ sinh gục ngã xuống vỉa hè. nạn nhân là thanh hoài, học sinh lớp 12. chuyện xảy ra ngày 5/3.  bà nội hoài cho biết, hai ngày sau đó, hoài luôn ở trong trạng thái hoảng loạn không thể nói chuyện được. đầu và mặt hoài bị đánh bằng ống nước nên sưng đau, choáng váng, không ăn được gì và cũng không thể nói được nhiều.   theo lời kể của hoài và những người chứng kiến, bọn côn đồ không chỉ đấm đá vào mặt, bụng mà còn đá vào háng và vùng phía dưới, khiến việc vệ sinh hàng ngày rất khó khăn.   nguyên nhân của sự việc bắt nguồn từ tính sĩ diện hão của một số kẻ 8x thích chơi trội, thích làm đại ca trong thiên hạ. theo lời kể của những người chứng kiến, ngày 4/3, hoài và kiên gặp nhau ở trường và có vài lời qua lại.   ngay ngày hôm sau, kiên đã gọi bạn đến đánh hoài ngay tại cổng trường với lý do \"đòi lại danh dự vì hôm qua bị xúc phạm\". điều đáng nói thêm là, hành vi ấy lại diễn ra trước sự chứng kiến của khá nhiều người, trong đó có cả bạn cùng lớp của hoài.   không có hành động can ngăn, giúp đỡ. chỉ có vài tiếng bất bình nho nhỏ đủ mình nghe, hoài oằn mình chịu trận đòn khủng khiếp ngay trước cổng trường.  câu chuyện của hoài chỉ là một trong nhiều vụ bạo lực học đường diễn ra ở các trường thpt, thậm chí các trường thcs.   chị thanh, bán hàng ăn trước cổng trường thpt chu văn an cho biết: \"chị bán ở đây đã 20 năm trời, thấy bọn nó \"xử\" nhau suốt ngày ấy mà. quan tâm cũng không xuể. chị chỉ để ý xem bọn nó có phá hàng của mình không, đã trả tiền chưa, chứ không thể nhớ nổi là đánh nhau như thế nào, vì chuyện gì được!\".   vũ khí trong những vụ \"xử\" nhau này là bàn ghế, guốc cao gót, gậy, côn, tuýp nước, thậm chí dao... đa số đối tượng tham gia đều ở độ tuổi 15-16.   mạnh, thành viên của một băng chuyên \"gây náo nhiệt\" ở trường trương định đã \"giải nghệ\", cho biết: \"trường nào cũng có một vài nhân vật cộm cán được gọi là \"người cầm trịch\", và ai muốn yên thân thì hãy nhớ mặt, nhớ tên những \"người cầm trịch\" ấy mà tránh cho xa\".   dĩ nhiên, những kẻ thân thiết với những đàn anh, đàn chị như thế thì \"được nhờ trăm sự\". có đứa nào dám sờ đến mình là lại gọi hội đến \"xử\". có thấy ngứa mắt đứa nào là gọi người đến dằn mặt cảnh cáo.   với cả một hệ thống có trên có dưới, \"xã hội đen nhí\" hoạt động như luật rừng. chỉ một cú điện thoại, ngay lập tức cả hội sẽ có mặt để yểm trợ chiến hữu. không cần biết lý do gì, ở đâu cũng không quan trọng, chỉ cần được chỉ điểm là đánh luôn.   kiểu hẹn nhau ra địa điểm riêng \"nói chuyện\" xem ra ngày càng mất thì giờ. những cuộc \"nói chuyện\" được thực hiện ngay trước cổng trường hoặc trong trường theo kiểu phủ đầu, thách thức cả ban giám hiệu trường học.  cá biệt có trường hợp hai hội \"xử\" nhau ở cổng trường cho đến khi có người phải vào cấp cứu mà vẫn chưa tha, ngày hôm sau lại kéo nhau vào bệnh viện gây sự tiếp.  bác sĩ phạm quỳnh trang, khoa ngoại bệnh viện saint paul cho biết: \"đã có nhiều trường hợp học sinh cấp iii phải nhập viện vì là nạn nhân của bạo lực học đường. mức độ nghiêm trọng của các vết thương là rất khác nhau và cũng không ít trường hợp, chúng tôi phải phẫu thuật ngay lập tức, nếu không sẽ đe doạ đến tính mạng\".  \"số nạn nhân không hề giảm so với vài năm trước\", bác sĩ trang nói thêm.'"
          },
          "execution_count": 5,
          "metadata": {},
          "output_type": "execute_result"
        }
      ],
      "source": [
        "contents_parsed[0]"
      ],
      "metadata": {
        "ExecuteTime": {
          "end_time": "2023-09-12T03:09:59.028824417Z",
          "start_time": "2023-09-12T03:09:58.938796634Z"
        },
        "id": "5ed7c1d57cc16905",
        "outputId": "a698f36b-216e-4494-faa5-c6ac8ce04f3e"
      },
      "id": "5ed7c1d57cc16905"
    },
    {
      "cell_type": "code",
      "execution_count": null,
      "outputs": [
        {
          "name": "stdout",
          "output_type": "stream",
          "text": [
            "['nạn nhân được tìm thấy là máy trưởng tàu sea bee   trưa 7/5, ts lương công nhớ, hiệu phó đh hàng hải việt nam thông báo với vnexpress, người được tìm thấy sau vụ mất liên lạc của tàu sea bee tại vùng biển trung quốc là máy trưởng đàm cao vân, sinh năm 1960, quê hải phòng.', 'ngoài máy trưởng vân, từ ngày 3/5 đến nay tàu cứu nạn donghaijiu 169 của trung tâm cứu nạn biển đông thượng hải (trung quốc) vẫn chưa tìm thêm được nạn nhân nào, cũng chưa xác định tọa độ tàu gặp nạn.', 'ông nhớ cho biết, chưa xác định được nguyên nhân tàu mất liên lạc.', 'theo thông báo của phía bạn, thời tiết lúc tàu phát tín hiệu cấp cứu rất bình thường, gió cấp 3-4.   trong 23 thuyền viên gặp nạn, có 14 người quê hải phòng, còn lại quê bắc ninh, nghệ an, thanh hoá, hưng yên, hà nội và 2 người chưa xác định quê quán.', 'cao tuổi nhất là thuyền viên nguyễn văn bình, sinh năm 1955, quê hải phòng.', 'nhỏ tuổi nhất là nguyễn đình dương, sinh năm 1985, quê từ liêm, hà nội.', 'ông nhớ cho hay, đến nay chưa thể nói sea bee mất tích vì chưa xác định được tọa độ.', 'điều này cũng được ông hoàng phú dương, giám đốc bảo việt hải phòng xác nhận, bởi chưa cơ quan nào tuyên bố mất tích, cũng chưa có xác nhận của nơi tàu đi và đến.', 'sea bee xuất cảng qinghuang dao (trung quốc) ngày 1/5, theo lịch trình sẽ đến manila (philippines) ngày 6/5.', 'nhưng rời cảng được 1 ngày thì tàu mất liên lạc với chủ tàu là công ty vận tải biển đông long.', 'ông dương cho hay, sea bee được bảo việt hải phòng bảo hiểm với mức 2 triệu usd.', 'con tàu trọng tải 6.273 dwt này được đóng tại nhật bản năm 1980 và năm 2003, công ty đông long đã mua lại.', 'hiện đông long cho công ty cryxtal shipping của hàn quốc thuê định kỳ.', 'chiếc tàu được đăng kiểm tại việt nam và hiện vẫn còn hạn đăng kiểm.', 'với trách nhiệm là cơ quan bảo hiểm cho cả tàu và toàn bộ 23 thuyền viên, ông dương cho hay bảo việt đã thông báo cho hội miền tây nước anh (một hội tái bảo hiểm mà bảo việt tham gia) để hội này thông báo cho các đại lý phối hợp với cơ quan chức năng tham gia tìm kiếm tàu cũng như thuyền viên gặp nạn.', 'về việc chi trả bảo hiểm, ông dương khẳng định, khi xác định được tàu và các thuyền viên mất tích hoàn toàn thì bảo việt hải phòng sẽ trả một lần cho gia đình nạn nhân với mức bảo hiểm trách nhiệm cao nhất - 25.000 usd/người.', 'trong vòng 2 năm qua, đh hàng hải đã mất đi nhiều thuyền viên.', 'ngày 20/1, tàu tiên phong của hàn quốc bị đắm trên vùng biển phía đông chdcnd triều tiên, làm thiệt mạng 6 thủy thủ việt nam.', 'trước đó, tháng 2/2004, chiếc tàu duri cũng bị đắm khiến 18 thủy thủ của việt nam bị chết và mất tích.']\n"
          ]
        }
      ],
      "source": [
        "import nltk\n",
        "\n",
        "sentences = nltk.sent_tokenize(contents_parsed[3])\n",
        "print(sentences)"
      ],
      "metadata": {
        "ExecuteTime": {
          "end_time": "2023-09-12T03:25:38.157571151Z",
          "start_time": "2023-09-12T03:25:38.116197609Z"
        },
        "id": "9a85cb87520db7d5",
        "outputId": "dcc35c19-22f1-48b8-8eae-602c717b5cb4"
      },
      "id": "9a85cb87520db7d5"
    },
    {
      "cell_type": "code",
      "execution_count": null,
      "outputs": [],
      "source": [
        "from gensim.models import KeyedVectors\n",
        "path = 'W2VModelVN.bin'\n",
        "w2v = KeyedVectors.load_word2vec_format(path, fvocab=None, binary=True, encoding='utf8')"
      ],
      "metadata": {
        "ExecuteTime": {
          "end_time": "2023-09-12T03:09:59.787136234Z",
          "start_time": "2023-09-12T03:09:59.225467494Z"
        },
        "id": "810f038214b76eee"
      },
      "id": "810f038214b76eee"
    },
    {
      "cell_type": "code",
      "execution_count": null,
      "outputs": [
        {
          "data": {
            "text/plain": "74268"
          },
          "execution_count": 15,
          "metadata": {},
          "output_type": "execute_result"
        }
      ],
      "source": [
        "len(w2v.index_to_key)"
      ],
      "metadata": {
        "ExecuteTime": {
          "end_time": "2023-09-12T03:19:18.420526879Z",
          "start_time": "2023-09-12T03:19:18.411400993Z"
        },
        "id": "6097b96358990827",
        "outputId": "7a7bd69f-f4c2-4c76-e92d-6211cb8b13f0"
      },
      "id": "6097b96358990827"
    },
    {
      "cell_type": "code",
      "execution_count": null,
      "outputs": [],
      "source": [
        "vocab = w2v.index_to_key"
      ],
      "metadata": {
        "ExecuteTime": {
          "end_time": "2023-09-12T03:17:07.906443085Z",
          "start_time": "2023-09-12T03:17:07.864881446Z"
        },
        "id": "ee873491004fefab"
      },
      "id": "ee873491004fefab"
    },
    {
      "cell_type": "code",
      "execution_count": null,
      "outputs": [],
      "source": [
        "X = []\n",
        "for sentence in sentences:\n",
        "    sentence = ViTokenizer.tokenize(sentence)\n",
        "    words = sentence.split(\" \")\n",
        "    sentence_vec = np.zeros((100))\n",
        "    for word in words:\n",
        "        if word in vocab:\n",
        "            sentence_vec+=w2v.key_to_index[word]\n",
        "    X.append(sentence_vec)"
      ],
      "metadata": {
        "ExecuteTime": {
          "end_time": "2023-09-12T03:25:44.629486725Z",
          "start_time": "2023-09-12T03:25:44.628073452Z"
        },
        "id": "b87be762542fb355"
      },
      "id": "b87be762542fb355"
    },
    {
      "cell_type": "code",
      "execution_count": null,
      "outputs": [],
      "source": [
        "from sklearn.cluster import KMeans\n",
        "\n",
        "n_clusters = 5\n",
        "kmeans = KMeans(n_clusters=n_clusters)\n",
        "kmeans = kmeans.fit(X)"
      ],
      "metadata": {
        "ExecuteTime": {
          "end_time": "2023-09-12T03:25:50.408156689Z",
          "start_time": "2023-09-12T03:25:50.284812769Z"
        },
        "id": "b1b6151a9948ceb7"
      },
      "id": "b1b6151a9948ceb7"
    },
    {
      "cell_type": "code",
      "execution_count": null,
      "outputs": [],
      "source": [
        "from sklearn.metrics import pairwise_distances_argmin_min\n",
        "\n",
        "avg = []\n",
        "for j in range(n_clusters):\n",
        "    idx = np.where(kmeans.labels_ == j)[0]\n",
        "    avg.append(np.mean(idx))\n",
        "closest, _ = pairwise_distances_argmin_min(kmeans.cluster_centers_, X)\n",
        "ordering = sorted(range(n_clusters), key=lambda k: avg[k])\n",
        "summary = ' '.join([sentences[closest[idx]] for idx in ordering])"
      ],
      "metadata": {
        "ExecuteTime": {
          "end_time": "2023-09-12T03:25:51.112438304Z",
          "start_time": "2023-09-12T03:25:51.109844556Z"
        },
        "id": "b6790c293f62cd68"
      },
      "id": "b6790c293f62cd68"
    },
    {
      "cell_type": "code",
      "execution_count": null,
      "outputs": [
        {
          "data": {
            "text/plain": "'nạn nhân được tìm thấy là máy trưởng tàu sea bee   trưa 7/5, ts lương công nhớ, hiệu phó đh hàng hải việt nam thông báo với vnexpress, người được tìm thấy sau vụ mất liên lạc của tàu sea bee tại vùng biển trung quốc là máy trưởng đàm cao vân, sinh năm 1960, quê hải phòng. theo thông báo của phía bạn, thời tiết lúc tàu phát tín hiệu cấp cứu rất bình thường, gió cấp 3-4.   trong 23 thuyền viên gặp nạn, có 14 người quê hải phòng, còn lại quê bắc ninh, nghệ an, thanh hoá, hưng yên, hà nội và 2 người chưa xác định quê quán. ngoài máy trưởng vân, từ ngày 3/5 đến nay tàu cứu nạn donghaijiu 169 của trung tâm cứu nạn biển đông thượng hải (trung quốc) vẫn chưa tìm thêm được nạn nhân nào, cũng chưa xác định tọa độ tàu gặp nạn. về việc chi trả bảo hiểm, ông dương khẳng định, khi xác định được tàu và các thuyền viên mất tích hoàn toàn thì bảo việt hải phòng sẽ trả một lần cho gia đình nạn nhân với mức bảo hiểm trách nhiệm cao nhất - 25.000 usd/người. trước đó, tháng 2/2004, chiếc tàu duri cũng bị đắm khiến 18 thủy thủ của việt nam bị chết và mất tích.'"
          },
          "execution_count": 28,
          "metadata": {},
          "output_type": "execute_result"
        }
      ],
      "source": [
        "summary"
      ],
      "metadata": {
        "ExecuteTime": {
          "end_time": "2023-09-12T03:25:51.964906952Z",
          "start_time": "2023-09-12T03:25:51.962646448Z"
        },
        "id": "74c97486153357a6",
        "outputId": "db67da15-af8d-492e-bb40-4c580f7cb285"
      },
      "id": "74c97486153357a6"
    },
    {
      "cell_type": "code",
      "execution_count": null,
      "outputs": [],
      "source": [],
      "metadata": {
        "id": "810b93d5d87a1242"
      },
      "id": "810b93d5d87a1242"
    }
  ],
  "metadata": {
    "kernelspec": {
      "display_name": "Python 3",
      "language": "python",
      "name": "python3"
    },
    "language_info": {
      "codemirror_mode": {
        "name": "ipython",
        "version": 2
      },
      "file_extension": ".py",
      "mimetype": "text/x-python",
      "name": "python",
      "nbconvert_exporter": "python",
      "pygments_lexer": "ipython2",
      "version": "2.7.6"
    },
    "colab": {
      "provenance": [],
      "include_colab_link": true
    }
  },
  "nbformat": 4,
  "nbformat_minor": 5
}