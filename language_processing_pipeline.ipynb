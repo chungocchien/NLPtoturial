{
 "cells": [
  {
   "cell_type": "code",
   "execution_count": 19,
   "metadata": {
    "collapsed": true,
    "ExecuteTime": {
     "end_time": "2023-06-19T03:57:27.032176042Z",
     "start_time": "2023-06-19T03:57:26.976866552Z"
    }
   },
   "outputs": [],
   "source": [
    "import spacy"
   ]
  },
  {
   "cell_type": "code",
   "execution_count": 20,
   "outputs": [],
   "source": [
    "nlp = spacy.load('en_core_web_sm')"
   ],
   "metadata": {
    "collapsed": false,
    "ExecuteTime": {
     "end_time": "2023-06-19T03:57:28.064423865Z",
     "start_time": "2023-06-19T03:57:27.023792482Z"
    }
   }
  },
  {
   "cell_type": "code",
   "execution_count": 25,
   "outputs": [
    {
     "data": {
      "text/plain": "[Ravi, Raju, Paris, London, Dubai, Rome, Mohan, Hyderabad]"
     },
     "execution_count": 25,
     "metadata": {},
     "output_type": "execute_result"
    }
   ],
   "source": [
    "text = '''\n",
    "Ravi and Raju are the best friends from school days.They wanted to go for a world tour and\n",
    "visit famous cities like Paris, London, Dubai, Rome etc and also they called their another friend Mohan to take part of this world tour.\n",
    "They started their journey from Hyderabad and spent next 3 months travelling all the wonderful cities in the world and cherish a happy moments!\n",
    "'''\n",
    "\n",
    "# https://spacy.io/usage/linguistic-features\n",
    "\n",
    "#creating the nlp object\n",
    "doc = nlp(text)\n",
    "\n",
    "\n",
    "#list for storing the proper nouns\n",
    "proper_nouns = []\n",
    "\n",
    "\n",
    "for token in doc:\n",
    "  if token.pos_ == \"PROPN\":        #checking the whether token belongs to parts of speech \"PROPN\" [Proper Noun]\n",
    "    proper_nouns.append(token)\n",
    "proper_nouns"
   ],
   "metadata": {
    "collapsed": false,
    "ExecuteTime": {
     "end_time": "2023-06-19T03:58:49.417125079Z",
     "start_time": "2023-06-19T03:58:49.371894184Z"
    }
   }
  },
  {
   "cell_type": "code",
   "execution_count": 28,
   "outputs": [
    {
     "data": {
      "text/plain": "[Tesla,\n Walmart,\n Amazon,\n Microsoft,\n Google,\n Infosys,\n Reliance,\n HDFC Bank,\n Hindustan Unilever,\n Bharti Airtel]"
     },
     "execution_count": 28,
     "metadata": {},
     "output_type": "execute_result"
    }
   ],
   "source": [
    "text = '''\n",
    "The Top 5 companies in USA are Tesla, Walmart, Amazon, Microsoft, Google and the top 5 companies in\n",
    "India are Infosys, Reliance, HDFC Bank, Hindustan Unilever and Bharti Airtel\n",
    "'''\n",
    "\n",
    "doc = nlp(text)\n",
    "companies = []\n",
    "for ent in doc.ents:\n",
    "    if ent.label_ == \"ORG\":\n",
    "        companies.append(ent)\n",
    "companies"
   ],
   "metadata": {
    "collapsed": false,
    "ExecuteTime": {
     "end_time": "2023-06-19T04:12:07.437205617Z",
     "start_time": "2023-06-19T04:12:07.388961122Z"
    }
   }
  },
  {
   "cell_type": "code",
   "execution_count": null,
   "outputs": [],
   "source": [],
   "metadata": {
    "collapsed": false
   }
  }
 ],
 "metadata": {
  "kernelspec": {
   "display_name": "Python 3",
   "language": "python",
   "name": "python3"
  },
  "language_info": {
   "codemirror_mode": {
    "name": "ipython",
    "version": 2
   },
   "file_extension": ".py",
   "mimetype": "text/x-python",
   "name": "python",
   "nbconvert_exporter": "python",
   "pygments_lexer": "ipython2",
   "version": "2.7.6"
  }
 },
 "nbformat": 4,
 "nbformat_minor": 0
}
