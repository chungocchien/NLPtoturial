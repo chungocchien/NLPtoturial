{
 "cells": [
  {
   "cell_type": "code",
   "execution_count": 1,
   "outputs": [
    {
     "data": {
      "text/plain": "   Insult             Date                                            Comment  \\\n0       0              NaN  \"THE DRUDGE REPORT\\\\n\\\\n\\\\n\\\\nYou won't see th...   \n1       0  20120618222256Z  \"@ian21\\xa0\"Roger Clemens is the fucking man, ...   \n2       1  20120618213617Z  \"Agree with Alan you are an extremest idiot.  ...   \n3       0              NaN  \"Really?\\\\n\\\\nI see Marc Lamont Hill on variou...   \n4       0  20120620003825Z  \"Really suck isn't the word, when many of our ...   \n\n         Usage  \n0   PublicTest  \n1   PublicTest  \n2   PublicTest  \n3  PrivateTest  \n4  PrivateTest  ",
      "text/html": "<div>\n<style scoped>\n    .dataframe tbody tr th:only-of-type {\n        vertical-align: middle;\n    }\n\n    .dataframe tbody tr th {\n        vertical-align: top;\n    }\n\n    .dataframe thead th {\n        text-align: right;\n    }\n</style>\n<table border=\"1\" class=\"dataframe\">\n  <thead>\n    <tr style=\"text-align: right;\">\n      <th></th>\n      <th>Insult</th>\n      <th>Date</th>\n      <th>Comment</th>\n      <th>Usage</th>\n    </tr>\n  </thead>\n  <tbody>\n    <tr>\n      <th>0</th>\n      <td>0</td>\n      <td>NaN</td>\n      <td>\"THE DRUDGE REPORT\\\\n\\\\n\\\\n\\\\nYou won't see th...</td>\n      <td>PublicTest</td>\n    </tr>\n    <tr>\n      <th>1</th>\n      <td>0</td>\n      <td>20120618222256Z</td>\n      <td>\"@ian21\\xa0\"Roger Clemens is the fucking man, ...</td>\n      <td>PublicTest</td>\n    </tr>\n    <tr>\n      <th>2</th>\n      <td>1</td>\n      <td>20120618213617Z</td>\n      <td>\"Agree with Alan you are an extremest idiot.  ...</td>\n      <td>PublicTest</td>\n    </tr>\n    <tr>\n      <th>3</th>\n      <td>0</td>\n      <td>NaN</td>\n      <td>\"Really?\\\\n\\\\nI see Marc Lamont Hill on variou...</td>\n      <td>PrivateTest</td>\n    </tr>\n    <tr>\n      <th>4</th>\n      <td>0</td>\n      <td>20120620003825Z</td>\n      <td>\"Really suck isn't the word, when many of our ...</td>\n      <td>PrivateTest</td>\n    </tr>\n  </tbody>\n</table>\n</div>"
     },
     "execution_count": 1,
     "metadata": {},
     "output_type": "execute_result"
    }
   ],
   "source": [
    "import pandas as pd \n",
    "\n",
    "df = pd.read_csv('test_with_solutions.csv')\n",
    "df.head()"
   ],
   "metadata": {
    "collapsed": false,
    "ExecuteTime": {
     "end_time": "2023-08-23T10:12:28.724573124Z",
     "start_time": "2023-08-23T10:12:27.841120392Z"
    }
   },
   "id": "d77d00f43068d021"
  },
  {
   "cell_type": "code",
   "execution_count": 2,
   "outputs": [
    {
     "data": {
      "text/plain": "(2647, 4)"
     },
     "execution_count": 2,
     "metadata": {},
     "output_type": "execute_result"
    }
   ],
   "source": [
    "df.shape"
   ],
   "metadata": {
    "collapsed": false,
    "ExecuteTime": {
     "end_time": "2023-08-23T10:12:28.730270077Z",
     "start_time": "2023-08-23T10:12:28.714894560Z"
    }
   },
   "id": "cc33557509d12055"
  },
  {
   "cell_type": "code",
   "execution_count": 3,
   "outputs": [
    {
     "name": "stderr",
     "output_type": "stream",
     "text": [
      "2023-08-23 17:12:30.120 INFO in 'deeppavlov.download'['download'] at line 138: Skipped http://files.deeppavlov.ai/datasets/insults_data.tar.gz download because of matching hashes\n",
      "2023-08-23 17:12:36.369 INFO in 'deeppavlov.download'['download'] at line 138: Skipped http://files.deeppavlov.ai/deeppavlov_data/classifiers/insults_kaggle_torch_bert_v5.tar.gz download because of matching hashes\n",
      "2023-08-23 17:12:40.367531: I tensorflow/core/platform/cpu_feature_guard.cc:182] This TensorFlow binary is optimized to use available CPU instructions in performance-critical operations.\n",
      "To enable the following instructions: SSE4.1 SSE4.2 AVX AVX2 AVX512F AVX512_VNNI FMA, in other operations, rebuild TensorFlow with the appropriate compiler flags.\n",
      "Some weights of the model checkpoint at bert-base-uncased were not used when initializing BertForSequenceClassification: ['cls.predictions.transform.dense.bias', 'cls.predictions.transform.dense.weight', 'cls.seq_relationship.bias', 'cls.predictions.transform.LayerNorm.weight', 'cls.predictions.bias', 'cls.seq_relationship.weight', 'cls.predictions.transform.LayerNorm.bias']\n",
      "- This IS expected if you are initializing BertForSequenceClassification from the checkpoint of a model trained on another task or with another architecture (e.g. initializing a BertForSequenceClassification model from a BertForPreTraining model).\n",
      "- This IS NOT expected if you are initializing BertForSequenceClassification from the checkpoint of a model that you expect to be exactly identical (initializing a BertForSequenceClassification model from a BertForSequenceClassification model).\n",
      "Some weights of BertForSequenceClassification were not initialized from the model checkpoint at bert-base-uncased and are newly initialized: ['classifier.weight', 'classifier.bias']\n",
      "You should probably TRAIN this model on a down-stream task to be able to use it for predictions and inference.\n"
     ]
    }
   ],
   "source": [
    "from deeppavlov import train_model\n",
    "from deeppavlov.core.commands.utils import parse_config\n",
    "\n",
    "from deeppavlov import build_model\n",
    "\n",
    "model = build_model('insults_kaggle_bert', download=True)"
   ],
   "metadata": {
    "collapsed": false,
    "ExecuteTime": {
     "end_time": "2023-08-23T10:12:49.022391991Z",
     "start_time": "2023-08-23T10:12:28.728436663Z"
    }
   },
   "id": "cc6901888b5faacd"
  },
  {
   "cell_type": "code",
   "execution_count": 4,
   "outputs": [
    {
     "data": {
      "text/plain": "['Insult', 'Not Insult']"
     },
     "execution_count": 4,
     "metadata": {},
     "output_type": "execute_result"
    }
   ],
   "source": [
    "model(['You are kind of stupid', 'You are a wonderful person!'])"
   ],
   "metadata": {
    "collapsed": false,
    "ExecuteTime": {
     "end_time": "2023-08-23T10:12:49.494278741Z",
     "start_time": "2023-08-23T10:12:49.004860019Z"
    }
   },
   "id": "90f79029f4d885f1"
  },
  {
   "cell_type": "code",
   "execution_count": 5,
   "outputs": [
    {
     "data": {
      "text/plain": "0       \"THE DRUDGE REPORT\\\\n\\\\n\\\\n\\\\nYou won't see th...\n1       \"@ian21\\xa0\"Roger Clemens is the fucking man, ...\n2       \"Agree with Alan you are an extremest idiot.  ...\n3       \"Really?\\\\n\\\\nI see Marc Lamont Hill on variou...\n4       \"Really suck isn't the word, when many of our ...\n                              ...                        \n2642    \"Never really gave it much thought. I just fig...\n2643                   \"Nadie se salva de la regla 34 xd\"\n2644                 \"Question: Are you a boy or a girl?\"\n2645    \"Leave your email or phone number and maybe yo...\n2646    \"From the scenarios you present, I see you bel...\nName: Comment, Length: 2647, dtype: object"
     },
     "execution_count": 5,
     "metadata": {},
     "output_type": "execute_result"
    }
   ],
   "source": [
    "test = df['Comment']\n",
    "test"
   ],
   "metadata": {
    "collapsed": false,
    "ExecuteTime": {
     "end_time": "2023-08-23T10:12:49.500695540Z",
     "start_time": "2023-08-23T10:12:49.475881004Z"
    }
   },
   "id": "cdb542d396a37e66"
  },
  {
   "cell_type": "code",
   "execution_count": 6,
   "outputs": [
    {
     "data": {
      "text/plain": "'\"@ian21\\\\xa0\"Roger Clemens is the fucking man, and never did any fucking steroids because he is fucking awesome. Did you all misremember Roger\\'s incredibleness?\" - Roger Clemens\"'"
     },
     "execution_count": 6,
     "metadata": {},
     "output_type": "execute_result"
    }
   ],
   "source": [
    "test[1]"
   ],
   "metadata": {
    "collapsed": false,
    "ExecuteTime": {
     "end_time": "2023-08-23T10:12:49.537435448Z",
     "start_time": "2023-08-23T10:12:49.498887973Z"
    }
   },
   "id": "e8586c2ff8ea8cdf"
  },
  {
   "cell_type": "code",
   "execution_count": 7,
   "outputs": [],
   "source": [
    "test = test.tolist()"
   ],
   "metadata": {
    "collapsed": false,
    "ExecuteTime": {
     "end_time": "2023-08-23T10:12:49.656374336Z",
     "start_time": "2023-08-23T10:12:49.510041084Z"
    }
   },
   "id": "6b4890bfebf3274b"
  },
  {
   "cell_type": "code",
   "execution_count": 8,
   "outputs": [],
   "source": [
    "out = model(test)"
   ],
   "metadata": {
    "collapsed": false,
    "ExecuteTime": {
     "end_time": "2023-08-23T10:16:55.311161722Z",
     "start_time": "2023-08-23T10:12:49.522120472Z"
    }
   },
   "id": "262d79d278926ee0"
  },
  {
   "cell_type": "code",
   "execution_count": 9,
   "outputs": [
    {
     "data": {
      "text/plain": "['Not Insult',\n 'Not Insult',\n 'Insult',\n 'Not Insult',\n 'Not Insult',\n 'Not Insult',\n 'Not Insult',\n 'Not Insult',\n 'Insult',\n 'Not Insult',\n 'Not Insult',\n 'Not Insult',\n 'Not Insult',\n 'Not Insult',\n 'Not Insult',\n 'Not Insult',\n 'Not Insult',\n 'Not Insult',\n 'Not Insult',\n 'Not Insult',\n 'Insult',\n 'Not Insult',\n 'Not Insult',\n 'Insult',\n 'Not Insult',\n 'Not Insult',\n 'Insult',\n 'Insult',\n 'Not Insult',\n 'Insult',\n 'Insult',\n 'Not Insult',\n 'Not Insult',\n 'Not Insult',\n 'Not Insult',\n 'Insult',\n 'Insult',\n 'Insult',\n 'Not Insult',\n 'Insult',\n 'Insult',\n 'Not Insult',\n 'Not Insult',\n 'Not Insult',\n 'Not Insult',\n 'Insult',\n 'Not Insult',\n 'Not Insult',\n 'Not Insult',\n 'Not Insult',\n 'Insult',\n 'Not Insult',\n 'Not Insult',\n 'Not Insult',\n 'Not Insult',\n 'Not Insult',\n 'Not Insult',\n 'Not Insult',\n 'Not Insult',\n 'Not Insult',\n 'Not Insult',\n 'Not Insult',\n 'Not Insult',\n 'Insult',\n 'Not Insult',\n 'Insult',\n 'Not Insult',\n 'Not Insult',\n 'Not Insult',\n 'Not Insult',\n 'Not Insult',\n 'Not Insult',\n 'Not Insult',\n 'Not Insult',\n 'Insult',\n 'Not Insult',\n 'Not Insult',\n 'Not Insult',\n 'Not Insult',\n 'Not Insult',\n 'Not Insult',\n 'Not Insult',\n 'Not Insult',\n 'Not Insult',\n 'Insult',\n 'Not Insult',\n 'Insult',\n 'Not Insult',\n 'Not Insult',\n 'Insult',\n 'Insult',\n 'Not Insult',\n 'Not Insult',\n 'Not Insult',\n 'Not Insult',\n 'Insult',\n 'Not Insult',\n 'Insult',\n 'Not Insult',\n 'Not Insult',\n 'Not Insult',\n 'Not Insult',\n 'Not Insult',\n 'Not Insult',\n 'Not Insult',\n 'Not Insult',\n 'Not Insult',\n 'Insult',\n 'Insult',\n 'Not Insult',\n 'Insult',\n 'Not Insult',\n 'Not Insult',\n 'Not Insult',\n 'Not Insult',\n 'Not Insult',\n 'Not Insult',\n 'Not Insult',\n 'Insult',\n 'Not Insult',\n 'Not Insult',\n 'Insult',\n 'Not Insult',\n 'Not Insult',\n 'Not Insult',\n 'Not Insult',\n 'Not Insult',\n 'Insult',\n 'Insult',\n 'Insult',\n 'Not Insult',\n 'Not Insult',\n 'Insult',\n 'Not Insult',\n 'Not Insult',\n 'Not Insult',\n 'Insult',\n 'Not Insult',\n 'Insult',\n 'Not Insult',\n 'Not Insult',\n 'Not Insult',\n 'Insult',\n 'Not Insult',\n 'Not Insult',\n 'Not Insult',\n 'Insult',\n 'Not Insult',\n 'Insult',\n 'Not Insult',\n 'Not Insult',\n 'Not Insult',\n 'Not Insult',\n 'Insult',\n 'Not Insult',\n 'Not Insult',\n 'Not Insult',\n 'Not Insult',\n 'Not Insult',\n 'Not Insult',\n 'Not Insult',\n 'Not Insult',\n 'Not Insult',\n 'Not Insult',\n 'Insult',\n 'Not Insult',\n 'Insult',\n 'Not Insult',\n 'Insult',\n 'Not Insult',\n 'Insult',\n 'Not Insult',\n 'Insult',\n 'Insult',\n 'Not Insult',\n 'Not Insult',\n 'Not Insult',\n 'Not Insult',\n 'Not Insult',\n 'Insult',\n 'Not Insult',\n 'Insult',\n 'Not Insult',\n 'Insult',\n 'Insult',\n 'Not Insult',\n 'Not Insult',\n 'Not Insult',\n 'Not Insult',\n 'Not Insult',\n 'Not Insult',\n 'Insult',\n 'Insult',\n 'Not Insult',\n 'Not Insult',\n 'Not Insult',\n 'Not Insult',\n 'Insult',\n 'Insult',\n 'Insult',\n 'Not Insult',\n 'Not Insult',\n 'Not Insult',\n 'Insult',\n 'Not Insult',\n 'Insult',\n 'Not Insult',\n 'Not Insult',\n 'Not Insult',\n 'Insult',\n 'Insult',\n 'Insult',\n 'Not Insult',\n 'Not Insult',\n 'Insult',\n 'Insult',\n 'Not Insult',\n 'Not Insult',\n 'Insult',\n 'Not Insult',\n 'Not Insult',\n 'Insult',\n 'Not Insult',\n 'Not Insult',\n 'Not Insult',\n 'Not Insult',\n 'Insult',\n 'Not Insult',\n 'Insult',\n 'Not Insult',\n 'Not Insult',\n 'Not Insult',\n 'Not Insult',\n 'Not Insult',\n 'Not Insult',\n 'Not Insult',\n 'Not Insult',\n 'Not Insult',\n 'Insult',\n 'Insult',\n 'Not Insult',\n 'Insult',\n 'Not Insult',\n 'Insult',\n 'Not Insult',\n 'Not Insult',\n 'Insult',\n 'Insult',\n 'Not Insult',\n 'Insult',\n 'Not Insult',\n 'Insult',\n 'Not Insult',\n 'Not Insult',\n 'Not Insult',\n 'Not Insult',\n 'Not Insult',\n 'Insult',\n 'Not Insult',\n 'Not Insult',\n 'Not Insult',\n 'Insult',\n 'Insult',\n 'Not Insult',\n 'Not Insult',\n 'Insult',\n 'Not Insult',\n 'Not Insult',\n 'Not Insult',\n 'Insult',\n 'Not Insult',\n 'Not Insult',\n 'Not Insult',\n 'Not Insult',\n 'Not Insult',\n 'Not Insult',\n 'Insult',\n 'Not Insult',\n 'Not Insult',\n 'Not Insult',\n 'Not Insult',\n 'Not Insult',\n 'Insult',\n 'Not Insult',\n 'Insult',\n 'Not Insult',\n 'Not Insult',\n 'Insult',\n 'Not Insult',\n 'Not Insult',\n 'Not Insult',\n 'Not Insult',\n 'Insult',\n 'Not Insult',\n 'Not Insult',\n 'Insult',\n 'Not Insult',\n 'Not Insult',\n 'Not Insult',\n 'Not Insult',\n 'Not Insult',\n 'Not Insult',\n 'Insult',\n 'Not Insult',\n 'Not Insult',\n 'Not Insult',\n 'Insult',\n 'Not Insult',\n 'Insult',\n 'Insult',\n 'Not Insult',\n 'Insult',\n 'Insult',\n 'Not Insult',\n 'Not Insult',\n 'Not Insult',\n 'Not Insult',\n 'Not Insult',\n 'Insult',\n 'Not Insult',\n 'Not Insult',\n 'Not Insult',\n 'Not Insult',\n 'Not Insult',\n 'Not Insult',\n 'Insult',\n 'Not Insult',\n 'Insult',\n 'Not Insult',\n 'Not Insult',\n 'Insult',\n 'Not Insult',\n 'Insult',\n 'Not Insult',\n 'Insult',\n 'Not Insult',\n 'Insult',\n 'Insult',\n 'Not Insult',\n 'Not Insult',\n 'Not Insult',\n 'Not Insult',\n 'Not Insult',\n 'Not Insult',\n 'Insult',\n 'Not Insult',\n 'Not Insult',\n 'Not Insult',\n 'Insult',\n 'Not Insult',\n 'Not Insult',\n 'Not Insult',\n 'Not Insult',\n 'Not Insult',\n 'Not Insult',\n 'Not Insult',\n 'Not Insult',\n 'Not Insult',\n 'Insult',\n 'Not Insult',\n 'Insult',\n 'Not Insult',\n 'Insult',\n 'Not Insult',\n 'Insult',\n 'Insult',\n 'Not Insult',\n 'Not Insult',\n 'Not Insult',\n 'Not Insult',\n 'Insult',\n 'Insult',\n 'Not Insult',\n 'Insult',\n 'Not Insult',\n 'Not Insult',\n 'Not Insult',\n 'Not Insult',\n 'Not Insult',\n 'Not Insult',\n 'Not Insult',\n 'Not Insult',\n 'Insult',\n 'Not Insult',\n 'Not Insult',\n 'Not Insult',\n 'Not Insult',\n 'Not Insult',\n 'Not Insult',\n 'Insult',\n 'Not Insult',\n 'Not Insult',\n 'Not Insult',\n 'Not Insult',\n 'Not Insult',\n 'Not Insult',\n 'Not Insult',\n 'Not Insult',\n 'Not Insult',\n 'Insult',\n 'Not Insult',\n 'Insult',\n 'Not Insult',\n 'Insult',\n 'Not Insult',\n 'Not Insult',\n 'Not Insult',\n 'Not Insult',\n 'Not Insult',\n 'Not Insult',\n 'Insult',\n 'Not Insult',\n 'Not Insult',\n 'Insult',\n 'Not Insult',\n 'Not Insult',\n 'Not Insult',\n 'Insult',\n 'Not Insult',\n 'Not Insult',\n 'Not Insult',\n 'Not Insult',\n 'Not Insult',\n 'Not Insult',\n 'Not Insult',\n 'Insult',\n 'Insult',\n 'Insult',\n 'Not Insult',\n 'Not Insult',\n 'Not Insult',\n 'Insult',\n 'Not Insult',\n 'Not Insult',\n 'Insult',\n 'Not Insult',\n 'Not Insult',\n 'Not Insult',\n 'Insult',\n 'Insult',\n 'Not Insult',\n 'Not Insult',\n 'Not Insult',\n 'Not Insult',\n 'Not Insult',\n 'Insult',\n 'Not Insult',\n 'Not Insult',\n 'Not Insult',\n 'Insult',\n 'Not Insult',\n 'Not Insult',\n 'Insult',\n 'Not Insult',\n 'Not Insult',\n 'Not Insult',\n 'Insult',\n 'Not Insult',\n 'Insult',\n 'Insult',\n 'Insult',\n 'Not Insult',\n 'Not Insult',\n 'Not Insult',\n 'Insult',\n 'Not Insult',\n 'Not Insult',\n 'Not Insult',\n 'Not Insult',\n 'Not Insult',\n 'Not Insult',\n 'Not Insult',\n 'Not Insult',\n 'Not Insult',\n 'Insult',\n 'Not Insult',\n 'Insult',\n 'Not Insult',\n 'Insult',\n 'Insult',\n 'Not Insult',\n 'Not Insult',\n 'Insult',\n 'Not Insult',\n 'Insult',\n 'Not Insult',\n 'Insult',\n 'Not Insult',\n 'Not Insult',\n 'Not Insult',\n 'Not Insult',\n 'Not Insult',\n 'Not Insult',\n 'Not Insult',\n 'Insult',\n 'Insult',\n 'Not Insult',\n 'Not Insult',\n 'Not Insult',\n 'Not Insult',\n 'Not Insult',\n 'Not Insult',\n 'Not Insult',\n 'Not Insult',\n 'Not Insult',\n 'Not Insult',\n 'Not Insult',\n 'Not Insult',\n 'Not Insult',\n 'Insult',\n 'Not Insult',\n 'Not Insult',\n 'Insult',\n 'Not Insult',\n 'Not Insult',\n 'Insult',\n 'Insult',\n 'Not Insult',\n 'Not Insult',\n 'Not Insult',\n 'Insult',\n 'Not Insult',\n 'Not Insult',\n 'Not Insult',\n 'Not Insult',\n 'Not Insult',\n 'Not Insult',\n 'Not Insult',\n 'Not Insult',\n 'Not Insult',\n 'Insult',\n 'Not Insult',\n 'Insult',\n 'Not Insult',\n 'Insult',\n 'Not Insult',\n 'Insult',\n 'Not Insult',\n 'Not Insult',\n 'Insult',\n 'Not Insult',\n 'Not Insult',\n 'Not Insult',\n 'Insult',\n 'Not Insult',\n 'Not Insult',\n 'Insult',\n 'Not Insult',\n 'Not Insult',\n 'Insult',\n 'Not Insult',\n 'Not Insult',\n 'Not Insult',\n 'Not Insult',\n 'Not Insult',\n 'Not Insult',\n 'Not Insult',\n 'Insult',\n 'Insult',\n 'Not Insult',\n 'Insult',\n 'Insult',\n 'Insult',\n 'Not Insult',\n 'Not Insult',\n 'Not Insult',\n 'Not Insult',\n 'Insult',\n 'Not Insult',\n 'Insult',\n 'Not Insult',\n 'Not Insult',\n 'Not Insult',\n 'Not Insult',\n 'Not Insult',\n 'Not Insult',\n 'Not Insult',\n 'Insult',\n 'Not Insult',\n 'Not Insult',\n 'Insult',\n 'Not Insult',\n 'Not Insult',\n 'Not Insult',\n 'Insult',\n 'Insult',\n 'Not Insult',\n 'Insult',\n 'Not Insult',\n 'Not Insult',\n 'Not Insult',\n 'Insult',\n 'Insult',\n 'Not Insult',\n 'Insult',\n 'Not Insult',\n 'Insult',\n 'Insult',\n 'Insult',\n 'Not Insult',\n 'Not Insult',\n 'Not Insult',\n 'Not Insult',\n 'Not Insult',\n 'Insult',\n 'Not Insult',\n 'Insult',\n 'Not Insult',\n 'Insult',\n 'Not Insult',\n 'Not Insult',\n 'Not Insult',\n 'Not Insult',\n 'Not Insult',\n 'Not Insult',\n 'Not Insult',\n 'Not Insult',\n 'Not Insult',\n 'Not Insult',\n 'Not Insult',\n 'Not Insult',\n 'Not Insult',\n 'Insult',\n 'Not Insult',\n 'Not Insult',\n 'Insult',\n 'Insult',\n 'Not Insult',\n 'Not Insult',\n 'Insult',\n 'Not Insult',\n 'Not Insult',\n 'Insult',\n 'Not Insult',\n 'Not Insult',\n 'Not Insult',\n 'Not Insult',\n 'Insult',\n 'Insult',\n 'Not Insult',\n 'Insult',\n 'Not Insult',\n 'Not Insult',\n 'Not Insult',\n 'Not Insult',\n 'Not Insult',\n 'Insult',\n 'Not Insult',\n 'Not Insult',\n 'Not Insult',\n 'Not Insult',\n 'Not Insult',\n 'Not Insult',\n 'Not Insult',\n 'Not Insult',\n 'Not Insult',\n 'Insult',\n 'Not Insult',\n 'Not Insult',\n 'Not Insult',\n 'Not Insult',\n 'Not Insult',\n 'Insult',\n 'Not Insult',\n 'Insult',\n 'Not Insult',\n 'Insult',\n 'Not Insult',\n 'Not Insult',\n 'Not Insult',\n 'Not Insult',\n 'Not Insult',\n 'Not Insult',\n 'Not Insult',\n 'Not Insult',\n 'Not Insult',\n 'Insult',\n 'Insult',\n 'Insult',\n 'Insult',\n 'Not Insult',\n 'Not Insult',\n 'Not Insult',\n 'Not Insult',\n 'Insult',\n 'Not Insult',\n 'Not Insult',\n 'Not Insult',\n 'Not Insult',\n 'Insult',\n 'Not Insult',\n 'Not Insult',\n 'Not Insult',\n 'Not Insult',\n 'Not Insult',\n 'Not Insult',\n 'Insult',\n 'Not Insult',\n 'Insult',\n 'Not Insult',\n 'Not Insult',\n 'Insult',\n 'Not Insult',\n 'Not Insult',\n 'Not Insult',\n 'Not Insult',\n 'Insult',\n 'Not Insult',\n 'Not Insult',\n 'Insult',\n 'Not Insult',\n 'Not Insult',\n 'Not Insult',\n 'Not Insult',\n 'Not Insult',\n 'Not Insult',\n 'Insult',\n 'Not Insult',\n 'Not Insult',\n 'Insult',\n 'Not Insult',\n 'Insult',\n 'Insult',\n 'Not Insult',\n 'Not Insult',\n 'Not Insult',\n 'Not Insult',\n 'Not Insult',\n 'Not Insult',\n 'Insult',\n 'Not Insult',\n 'Not Insult',\n 'Not Insult',\n 'Not Insult',\n 'Not Insult',\n 'Not Insult',\n 'Insult',\n 'Not Insult',\n 'Not Insult',\n 'Not Insult',\n 'Insult',\n 'Insult',\n 'Not Insult',\n 'Not Insult',\n 'Not Insult',\n 'Not Insult',\n 'Insult',\n 'Insult',\n 'Not Insult',\n 'Not Insult',\n 'Not Insult',\n 'Not Insult',\n 'Insult',\n 'Not Insult',\n 'Not Insult',\n 'Not Insult',\n 'Insult',\n 'Insult',\n 'Not Insult',\n 'Not Insult',\n 'Not Insult',\n 'Insult',\n 'Insult',\n 'Not Insult',\n 'Not Insult',\n 'Insult',\n 'Not Insult',\n 'Insult',\n 'Insult',\n 'Not Insult',\n 'Not Insult',\n 'Not Insult',\n 'Not Insult',\n 'Insult',\n 'Not Insult',\n 'Not Insult',\n 'Not Insult',\n 'Insult',\n 'Not Insult',\n 'Not Insult',\n 'Insult',\n 'Insult',\n 'Not Insult',\n 'Not Insult',\n 'Insult',\n 'Not Insult',\n 'Not Insult',\n 'Insult',\n 'Not Insult',\n 'Not Insult',\n 'Insult',\n 'Not Insult',\n 'Insult',\n 'Not Insult',\n 'Insult',\n 'Not Insult',\n 'Not Insult',\n 'Not Insult',\n 'Not Insult',\n 'Not Insult',\n 'Not Insult',\n 'Not Insult',\n 'Not Insult',\n 'Not Insult',\n 'Not Insult',\n 'Not Insult',\n 'Not Insult',\n 'Insult',\n 'Insult',\n 'Not Insult',\n 'Not Insult',\n 'Not Insult',\n 'Not Insult',\n 'Not Insult',\n 'Not Insult',\n 'Not Insult',\n 'Not Insult',\n 'Not Insult',\n 'Not Insult',\n 'Not Insult',\n 'Not Insult',\n 'Insult',\n 'Not Insult',\n 'Not Insult',\n 'Not Insult',\n 'Not Insult',\n 'Not Insult',\n 'Not Insult',\n 'Not Insult',\n 'Not Insult',\n 'Not Insult',\n 'Insult',\n 'Not Insult',\n 'Insult',\n 'Not Insult',\n 'Not Insult',\n 'Not Insult',\n 'Not Insult',\n 'Not Insult',\n 'Not Insult',\n 'Not Insult',\n 'Insult',\n 'Not Insult',\n 'Not Insult',\n 'Not Insult',\n 'Not Insult',\n 'Insult',\n 'Insult',\n 'Insult',\n 'Insult',\n 'Not Insult',\n 'Not Insult',\n 'Not Insult',\n 'Insult',\n 'Not Insult',\n 'Not Insult',\n 'Insult',\n 'Insult',\n 'Not Insult',\n 'Not Insult',\n 'Not Insult',\n 'Insult',\n 'Insult',\n 'Not Insult',\n 'Insult',\n 'Not Insult',\n 'Insult',\n 'Not Insult',\n 'Not Insult',\n 'Not Insult',\n 'Not Insult',\n 'Insult',\n 'Insult',\n 'Not Insult',\n 'Not Insult',\n 'Not Insult',\n 'Not Insult',\n 'Not Insult',\n 'Not Insult',\n 'Insult',\n 'Insult',\n 'Not Insult',\n 'Not Insult',\n 'Not Insult',\n 'Not Insult',\n 'Not Insult',\n 'Not Insult',\n 'Not Insult',\n 'Not Insult',\n 'Not Insult',\n 'Not Insult',\n 'Not Insult',\n 'Not Insult',\n 'Not Insult',\n 'Not Insult',\n 'Not Insult',\n 'Not Insult',\n 'Not Insult',\n 'Not Insult',\n 'Insult',\n 'Not Insult',\n 'Insult',\n 'Not Insult',\n 'Not Insult',\n 'Insult',\n 'Insult',\n 'Not Insult',\n 'Insult',\n 'Insult',\n 'Not Insult',\n 'Insult',\n 'Not Insult',\n 'Insult',\n 'Not Insult',\n 'Insult',\n 'Insult',\n 'Insult',\n 'Not Insult',\n 'Not Insult',\n 'Not Insult',\n 'Not Insult',\n 'Not Insult',\n 'Not Insult',\n 'Not Insult',\n 'Insult',\n 'Not Insult',\n 'Insult',\n 'Not Insult',\n 'Insult',\n 'Insult',\n 'Not Insult',\n 'Not Insult',\n 'Not Insult',\n 'Not Insult',\n 'Not Insult',\n 'Not Insult',\n 'Not Insult',\n 'Not Insult',\n 'Insult',\n 'Not Insult',\n 'Not Insult',\n 'Not Insult',\n 'Insult',\n 'Not Insult',\n 'Insult',\n 'Not Insult',\n 'Insult',\n 'Not Insult',\n 'Not Insult',\n 'Not Insult',\n 'Not Insult',\n 'Insult',\n 'Not Insult',\n 'Insult',\n 'Not Insult',\n 'Not Insult',\n 'Insult',\n 'Insult',\n 'Not Insult',\n 'Not Insult',\n 'Insult',\n 'Insult',\n 'Not Insult',\n 'Not Insult',\n 'Not Insult',\n 'Not Insult',\n 'Not Insult',\n 'Insult',\n 'Not Insult',\n 'Not Insult',\n 'Not Insult',\n 'Not Insult',\n 'Insult',\n 'Insult',\n 'Not Insult',\n 'Not Insult',\n 'Not Insult',\n 'Insult',\n 'Not Insult',\n 'Not Insult',\n 'Not Insult',\n 'Not Insult',\n 'Not Insult',\n 'Not Insult',\n 'Not Insult',\n 'Insult',\n 'Not Insult',\n 'Not Insult',\n 'Not Insult',\n 'Not Insult',\n 'Insult',\n 'Not Insult',\n 'Insult',\n 'Not Insult',\n 'Insult',\n 'Not Insult',\n 'Not Insult',\n 'Insult',\n 'Not Insult',\n 'Not Insult',\n ...]"
     },
     "execution_count": 9,
     "metadata": {},
     "output_type": "execute_result"
    }
   ],
   "source": [
    "out"
   ],
   "metadata": {
    "collapsed": false,
    "ExecuteTime": {
     "end_time": "2023-08-23T10:17:01.537409433Z",
     "start_time": "2023-08-23T10:17:01.448635075Z"
    }
   },
   "id": "638d705e143f43ca"
  },
  {
   "cell_type": "code",
   "execution_count": 11,
   "outputs": [
    {
     "name": "stdout",
     "output_type": "stream",
     "text": [
      "[0, 0, 1, 0, 0, 0, 0, 0, 1, 0, 0, 0, 0, 0, 0, 0, 0, 0, 0, 0, 1, 0, 0, 1, 0, 0, 1, 1, 0, 1, 1, 0, 0, 0, 0, 1, 1, 1, 0, 1, 1, 0, 0, 0, 0, 1, 0, 0, 0, 0, 1, 0, 0, 0, 0, 0, 0, 0, 0, 0, 0, 0, 0, 1, 0, 1, 0, 0, 0, 0, 0, 0, 0, 0, 1, 0, 0, 0, 0, 0, 0, 0, 0, 0, 1, 0, 1, 0, 0, 1, 1, 0, 0, 0, 0, 1, 0, 1, 0, 0, 0, 0, 0, 0, 0, 0, 0, 1, 1, 0, 1, 0, 0, 0, 0, 0, 0, 0, 1, 0, 0, 1, 0, 0, 0, 0, 0, 1, 1, 1, 0, 0, 1, 0, 0, 0, 1, 0, 1, 0, 0, 0, 1, 0, 0, 0, 1, 0, 1, 0, 0, 0, 0, 1, 0, 0, 0, 0, 0, 0, 0, 0, 0, 0, 1, 0, 1, 0, 1, 0, 1, 0, 1, 1, 0, 0, 0, 0, 0, 1, 0, 1, 0, 1, 1, 0, 0, 0, 0, 0, 0, 1, 1, 0, 0, 0, 0, 1, 1, 1, 0, 0, 0, 1, 0, 1, 0, 0, 0, 1, 1, 1, 0, 0, 1, 1, 0, 0, 1, 0, 0, 1, 0, 0, 0, 0, 1, 0, 1, 0, 0, 0, 0, 0, 0, 0, 0, 0, 1, 1, 0, 1, 0, 1, 0, 0, 1, 1, 0, 1, 0, 1, 0, 0, 0, 0, 0, 1, 0, 0, 0, 1, 1, 0, 0, 1, 0, 0, 0, 1, 0, 0, 0, 0, 0, 0, 1, 0, 0, 0, 0, 0, 1, 0, 1, 0, 0, 1, 0, 0, 0, 0, 1, 0, 0, 1, 0, 0, 0, 0, 0, 0, 1, 0, 0, 0, 1, 0, 1, 1, 0, 1, 1, 0, 0, 0, 0, 0, 1, 0, 0, 0, 0, 0, 0, 1, 0, 1, 0, 0, 1, 0, 1, 0, 1, 0, 1, 1, 0, 0, 0, 0, 0, 0, 1, 0, 0, 0, 1, 0, 0, 0, 0, 0, 0, 0, 0, 0, 1, 0, 1, 0, 1, 0, 1, 1, 0, 0, 0, 0, 1, 1, 0, 1, 0, 0, 0, 0, 0, 0, 0, 0, 1, 0, 0, 0, 0, 0, 0, 1, 0, 0, 0, 0, 0, 0, 0, 0, 0, 1, 0, 1, 0, 1, 0, 0, 0, 0, 0, 0, 1, 0, 0, 1, 0, 0, 0, 1, 0, 0, 0, 0, 0, 0, 0, 1, 1, 1, 0, 0, 0, 1, 0, 0, 1, 0, 0, 0, 1, 1, 0, 0, 0, 0, 0, 1, 0, 0, 0, 1, 0, 0, 1, 0, 0, 0, 1, 0, 1, 1, 1, 0, 0, 0, 1, 0, 0, 0, 0, 0, 0, 0, 0, 0, 1, 0, 1, 0, 1, 1, 0, 0, 1, 0, 1, 0, 1, 0, 0, 0, 0, 0, 0, 0, 1, 1, 0, 0, 0, 0, 0, 0, 0, 0, 0, 0, 0, 0, 0, 1, 0, 0, 1, 0, 0, 1, 1, 0, 0, 0, 1, 0, 0, 0, 0, 0, 0, 0, 0, 0, 1, 0, 1, 0, 1, 0, 1, 0, 0, 1, 0, 0, 0, 1, 0, 0, 1, 0, 0, 1, 0, 0, 0, 0, 0, 0, 0, 1, 1, 0, 1, 1, 1, 0, 0, 0, 0, 1, 0, 1, 0, 0, 0, 0, 0, 0, 0, 1, 0, 0, 1, 0, 0, 0, 1, 1, 0, 1, 0, 0, 0, 1, 1, 0, 1, 0, 1, 1, 1, 0, 0, 0, 0, 0, 1, 0, 1, 0, 1, 0, 0, 0, 0, 0, 0, 0, 0, 0, 0, 0, 0, 0, 1, 0, 0, 1, 1, 0, 0, 1, 0, 0, 1, 0, 0, 0, 0, 1, 1, 0, 1, 0, 0, 0, 0, 0, 1, 0, 0, 0, 0, 0, 0, 0, 0, 0, 1, 0, 0, 0, 0, 0, 1, 0, 1, 0, 1, 0, 0, 0, 0, 0, 0, 0, 0, 0, 1, 1, 1, 1, 0, 0, 0, 0, 1, 0, 0, 0, 0, 1, 0, 0, 0, 0, 0, 0, 1, 0, 1, 0, 0, 1, 0, 0, 0, 0, 1, 0, 0, 1, 0, 0, 0, 0, 0, 0, 1, 0, 0, 1, 0, 1, 1, 0, 0, 0, 0, 0, 0, 1, 0, 0, 0, 0, 0, 0, 1, 0, 0, 0, 1, 1, 0, 0, 0, 0, 1, 1, 0, 0, 0, 0, 1, 0, 0, 0, 1, 1, 0, 0, 0, 1, 1, 0, 0, 1, 0, 1, 1, 0, 0, 0, 0, 1, 0, 0, 0, 1, 0, 0, 1, 1, 0, 0, 1, 0, 0, 1, 0, 0, 1, 0, 1, 0, 1, 0, 0, 0, 0, 0, 0, 0, 0, 0, 0, 0, 0, 1, 1, 0, 0, 0, 0, 0, 0, 0, 0, 0, 0, 0, 0, 1, 0, 0, 0, 0, 0, 0, 0, 0, 0, 1, 0, 1, 0, 0, 0, 0, 0, 0, 0, 1, 0, 0, 0, 0, 1, 1, 1, 1, 0, 0, 0, 1, 0, 0, 1, 1, 0, 0, 0, 1, 1, 0, 1, 0, 1, 0, 0, 0, 0, 1, 1, 0, 0, 0, 0, 0, 0, 1, 1, 0, 0, 0, 0, 0, 0, 0, 0, 0, 0, 0, 0, 0, 0, 0, 0, 0, 0, 1, 0, 1, 0, 0, 1, 1, 0, 1, 1, 0, 1, 0, 1, 0, 1, 1, 1, 0, 0, 0, 0, 0, 0, 0, 1, 0, 1, 0, 1, 1, 0, 0, 0, 0, 0, 0, 0, 0, 1, 0, 0, 0, 1, 0, 1, 0, 1, 0, 0, 0, 0, 1, 0, 1, 0, 0, 1, 1, 0, 0, 1, 1, 0, 0, 0, 0, 0, 1, 0, 0, 0, 0, 1, 1, 0, 0, 0, 1, 0, 0, 0, 0, 0, 0, 0, 1, 0, 0, 0, 0, 1, 0, 1, 0, 1, 0, 0, 1, 0, 0, 1, 0, 0, 0, 0, 1, 1, 0, 0, 0, 0, 1, 0, 0, 0, 0, 1, 0, 0, 0, 0, 1, 0, 1, 0, 0, 0, 1, 1, 0, 0, 0, 0, 0, 1, 0, 0, 0, 0, 0, 0, 1, 0, 0, 0, 0, 0, 0, 0, 0, 1, 0, 0, 1, 0, 1, 0, 0, 0, 1, 1, 0, 1, 0, 0, 0, 0, 0, 0, 1, 1, 0, 1, 0, 1, 0, 1, 0, 0, 0, 0, 1, 0, 1, 1, 0, 1, 0, 0, 1, 0, 1, 0, 1, 0, 0, 0, 0, 0, 0, 0, 0, 0, 1, 0, 0, 0, 1, 0, 0, 1, 0, 1, 1, 0, 1, 0, 0, 0, 0, 0, 0, 0, 1, 1, 1, 1, 0, 0, 0, 0, 0, 1, 0, 0, 0, 0, 1, 0, 0, 0, 0, 0, 0, 1, 0, 0, 0, 1, 0, 0, 0, 0, 0, 0, 0, 1, 0, 1, 0, 0, 0, 0, 0, 0, 0, 1, 0, 1, 0, 0, 0, 0, 0, 1, 0, 0, 0, 0, 0, 0, 0, 0, 1, 0, 1, 0, 0, 0, 1, 0, 0, 0, 1, 1, 0, 0, 1, 0, 0, 0, 0, 1, 1, 0, 0, 0, 0, 0, 1, 1, 0, 0, 1, 1, 1, 0, 0, 0, 0, 0, 0, 1, 0, 0, 1, 0, 0, 1, 0, 1, 0, 1, 0, 0, 0, 1, 1, 0, 0, 0, 0, 1, 0, 1, 0, 0, 0, 1, 0, 0, 0, 0, 0, 0, 0, 0, 0, 1, 0, 0, 0, 1, 1, 0, 0, 0, 0, 1, 1, 0, 1, 0, 0, 0, 0, 0, 0, 0, 0, 0, 0, 0, 1, 0, 0, 0, 0, 0, 1, 0, 0, 0, 0, 0, 0, 1, 0, 0, 1, 0, 0, 0, 1, 0, 1, 0, 0, 0, 0, 0, 0, 1, 0, 1, 1, 1, 0, 0, 0, 0, 1, 1, 0, 0, 1, 0, 1, 0, 0, 0, 1, 1, 0, 0, 0, 0, 0, 0, 0, 0, 0, 1, 0, 1, 0, 1, 1, 0, 0, 0, 0, 0, 0, 0, 0, 1, 0, 1, 1, 0, 1, 1, 0, 0, 1, 0, 0, 0, 1, 0, 0, 0, 1, 0, 0, 0, 0, 0, 0, 1, 0, 0, 0, 0, 0, 0, 0, 1, 0, 1, 0, 0, 0, 0, 0, 0, 0, 0, 0, 0, 0, 0, 0, 0, 0, 1, 0, 0, 1, 1, 0, 0, 0, 0, 1, 1, 0, 0, 0, 1, 0, 0, 1, 0, 0, 1, 0, 0, 0, 0, 1, 1, 0, 0, 0, 0, 0, 0, 0, 0, 1, 0, 0, 0, 0, 0, 0, 0, 0, 1, 0, 0, 0, 0, 0, 0, 0, 0, 0, 1, 0, 1, 0, 1, 1, 0, 0, 0, 1, 0, 0, 0, 0, 1, 1, 1, 0, 0, 1, 0, 0, 0, 0, 0, 1, 0, 1, 0, 0, 0, 0, 1, 1, 1, 1, 0, 0, 0, 0, 0, 0, 0, 0, 0, 1, 0, 1, 1, 0, 0, 0, 0, 0, 0, 1, 0, 1, 0, 0, 0, 0, 0, 0, 0, 1, 0, 0, 0, 0, 1, 0, 0, 0, 0, 0, 0, 0, 0, 0, 1, 0, 0, 0, 0, 0, 0, 1, 0, 0, 0, 1, 1, 1, 0, 0, 0, 1, 1, 0, 0, 1, 1, 0, 0, 1, 1, 0, 0, 0, 1, 1, 0, 0, 0, 0, 0, 0, 0, 0, 0, 0, 0, 0, 0, 1, 0, 1, 0, 0, 0, 0, 0, 0, 1, 0, 1, 0, 0, 0, 0, 0, 0, 1, 1, 1, 0, 1, 0, 0, 0, 1, 0, 0, 0, 1, 0, 0, 0, 0, 0, 1, 1, 0, 1, 1, 1, 1, 0, 0, 0, 0, 1, 0, 1, 0, 0, 0, 0, 0, 0, 1, 0, 0, 1, 0, 0, 1, 0, 1, 1, 0, 0, 0, 0, 0, 0, 0, 0, 0, 0, 0, 0, 0, 0, 0, 0, 1, 0, 0, 0, 0, 0, 0, 1, 1, 0, 0, 0, 0, 1, 1, 1, 0, 0, 1, 1, 0, 0, 1, 0, 0, 1, 1, 1, 0, 1, 1, 0, 0, 0, 1, 1, 1, 0, 0, 1, 0, 0, 0, 0, 0, 1, 0, 1, 1, 1, 1, 1, 1, 0, 0, 0, 0, 0, 1, 0, 0, 0, 1, 0, 0, 1, 0, 0, 0, 1, 0, 0, 0, 1, 0, 1, 0, 0, 0, 0, 1, 0, 0, 1, 0, 0, 0, 0, 0, 0, 0, 0, 0, 0, 1, 0, 0, 0, 0, 0, 0, 1, 0, 0, 0, 1, 0, 0, 1, 0, 1, 0, 1, 1, 0, 1, 0, 1, 1, 0, 1, 0, 1, 1, 0, 1, 0, 0, 0, 1, 0, 0, 1, 0, 0, 0, 0, 0, 0, 0, 1, 0, 0, 0, 0, 1, 0, 0, 1, 0, 0, 0, 0, 0, 1, 0, 0, 1, 0, 0, 1, 1, 0, 0, 0, 0, 0, 0, 0, 0, 1, 0, 0, 0, 0, 1, 0, 0, 0, 0, 0, 0, 0, 0, 0, 0, 0, 1, 0, 0, 0, 1, 0, 0, 0, 0, 1, 0, 0, 1, 0, 1, 1, 0, 0, 0, 0, 0, 1, 0, 1, 0, 0, 0, 0, 1, 0, 0, 0, 0, 0, 0, 0, 0, 1, 1, 0, 0, 0, 1, 0, 1, 0, 1, 0, 0, 1, 0, 0, 0, 1, 1, 0, 0, 0, 0, 0, 1, 0, 0, 0, 0, 0, 1, 0, 0, 0, 0, 0, 0, 0, 0, 1, 1, 1, 1, 0, 0, 0, 0, 0, 1, 0, 0, 0, 1, 1, 0, 0, 0, 1, 0, 0, 0, 1, 0, 1, 0, 0, 0, 1, 0, 0, 1, 0, 1, 1, 0, 0, 0, 1, 0, 0, 0, 0, 1, 0, 0, 0, 1, 1, 1, 0, 0, 0, 0, 0, 0, 0, 0, 1, 0, 0, 0, 0, 1, 0, 0, 0, 1, 0, 0, 0, 0, 0, 0, 0, 1, 0, 0, 0, 0, 1, 1, 0, 0, 0, 0, 0, 0, 0, 0, 1, 0, 0, 0, 0, 0, 1, 0, 1, 1, 0, 0, 0, 0, 0, 0, 0, 0, 0, 1, 0, 1, 1, 1, 0, 0, 0, 0, 1, 1, 0, 0, 1, 1, 0, 1, 0, 0, 0, 1, 1, 1, 0, 0, 0, 0, 0, 0, 0, 0, 0, 1, 0, 0, 0, 0, 1, 1, 0, 1, 1, 0, 0, 0, 0, 0, 1, 0, 0, 1, 0, 0, 1, 0, 0, 0, 0, 0, 0, 0, 1, 0, 0, 0, 1, 0, 0, 0, 0, 0, 0, 0, 0, 0, 0, 0, 0, 0, 1, 0, 0, 0, 0, 0, 1, 0, 1, 1, 0, 0, 0, 1, 0, 1, 0, 1, 0, 0, 0, 0, 0, 0, 0, 1, 1, 1, 0, 0, 0, 0, 0, 0, 0, 0, 0, 0, 1, 0, 1, 1, 0, 0, 0, 1, 0, 1, 0, 1, 0, 1, 0, 0, 0, 0, 0, 1, 0, 1, 1, 0, 1, 1, 0, 0, 0, 0, 1, 1, 1, 0, 0, 0, 0, 0, 1, 1, 0, 0, 0, 0, 0, 0, 1, 0, 1, 0, 0, 0, 0, 0, 0, 0, 1, 1, 0, 0, 0, 0, 0, 1, 1, 0, 1, 0, 0, 0, 0, 0, 0, 0, 0, 0, 0, 0, 0, 0, 0, 0, 1, 0, 0, 0, 0, 0, 1, 0, 1, 0, 0, 1, 0, 0, 1, 0, 0, 0, 0, 0, 0, 1, 0, 1, 0, 0, 1, 0, 0, 1, 0, 1, 0, 1, 0, 0, 0, 1, 1, 0, 1, 0, 1, 0, 0, 1, 0, 0, 0, 0, 0, 0, 0, 0, 0, 0, 0, 0, 0, 1, 1, 1, 0, 0, 0, 0, 0, 0, 1, 1, 0, 0, 1, 0, 0, 0, 0, 0, 0, 0, 0, 0, 0, 0, 0, 1, 0, 0, 0, 0, 0, 0, 0, 0, 1, 0, 1, 0, 0, 1, 0, 0, 0, 0, 0, 0, 1, 1, 0, 0, 0, 0, 1, 0, 0, 0, 0, 0, 0, 0, 0, 0, 1, 0, 0, 0, 0, 0, 0, 0, 1, 1, 1, 1, 1, 0, 1, 0, 0, 0, 0, 0, 1, 0, 1, 1, 0, 0, 0, 0, 0, 0, 1, 0, 0, 0, 0, 0, 1, 0, 0, 0, 0, 0, 0, 1, 0, 0, 0, 0, 0, 0, 1, 0, 0, 0, 0, 0, 1, 1, 1, 0, 0, 0, 1, 0, 0, 0, 0, 0, 0, 0, 0, 1, 0, 1, 0, 0, 1, 0, 1, 0, 0, 0, 1, 1, 0, 0, 0, 0, 0, 0, 0, 0, 1, 1, 0, 0, 0, 0, 1, 0, 0, 0, 0, 0, 0, 0, 1, 0, 0, 1, 0, 0, 1, 0, 0, 0, 1, 1, 0, 0, 0, 0, 0, 0, 1, 0, 0, 0, 1, 1, 0, 0, 0, 0, 0, 1, 1, 0, 0, 1, 0, 1, 1, 0, 1, 0, 1, 0, 0, 0, 0, 0, 0, 0, 0, 0, 0, 0, 0, 0, 0, 0, 0, 0, 0, 0, 0, 1, 1, 0, 1, 1, 1, 0, 0, 0, 0, 0, 1, 0, 0, 0, 1, 0, 0, 0, 0, 0, 0, 1, 0, 1, 0, 0, 0, 0, 0, 0, 0, 1, 0, 0, 0, 0, 1, 1, 0, 0, 0, 0, 0, 1, 0, 0, 0, 1, 1, 1, 0, 1, 0, 0, 0, 0, 0, 0, 1, 0, 1, 0, 1, 1, 0, 1, 0, 0, 1, 0, 0, 0, 1, 1, 0, 1, 0, 0, 0, 1, 1, 0, 0, 0, 1, 0, 1, 0, 0, 0, 0, 0, 0, 0, 1, 1, 0, 1, 0, 0, 1, 1, 1, 0, 0, 0, 0, 0, 0, 0, 1, 0, 0, 1, 0, 0, 0, 0, 1, 0]\n"
     ]
    }
   ],
   "source": [
    "binary_data = [1 if item == 'Insult' else 0 for item in out]\n",
    "print(binary_data)"
   ],
   "metadata": {
    "collapsed": false,
    "ExecuteTime": {
     "end_time": "2023-08-23T10:18:28.127227317Z",
     "start_time": "2023-08-23T10:18:28.056233406Z"
    }
   },
   "id": "ed54523e935bf062"
  },
  {
   "cell_type": "code",
   "execution_count": 13,
   "outputs": [],
   "source": [
    "test_out = df['Insult'].tolist()"
   ],
   "metadata": {
    "collapsed": false,
    "ExecuteTime": {
     "end_time": "2023-08-23T10:19:11.442458344Z",
     "start_time": "2023-08-23T10:19:11.394628184Z"
    }
   },
   "id": "b25cb89c2d29d417"
  },
  {
   "cell_type": "code",
   "execution_count": 14,
   "outputs": [
    {
     "name": "stdout",
     "output_type": "stream",
     "text": [
      "0.8802417831507366\n"
     ]
    }
   ],
   "source": [
    "from sklearn.metrics import accuracy_score\n",
    "\n",
    "print(accuracy_score(test_out, binary_data))"
   ],
   "metadata": {
    "collapsed": false,
    "ExecuteTime": {
     "end_time": "2023-08-23T10:19:37.642618811Z",
     "start_time": "2023-08-23T10:19:37.560383733Z"
    }
   },
   "id": "fe96e751840c3beb"
  },
  {
   "cell_type": "code",
   "execution_count": null,
   "outputs": [],
   "source": [],
   "metadata": {
    "collapsed": false
   },
   "id": "56db57ed63b2c8c5"
  }
 ],
 "metadata": {
  "kernelspec": {
   "display_name": "Python 3 (ipykernel)",
   "language": "python",
   "name": "python3"
  },
  "language_info": {
   "codemirror_mode": {
    "name": "ipython",
    "version": 3
   },
   "file_extension": ".py",
   "mimetype": "text/x-python",
   "name": "python",
   "nbconvert_exporter": "python",
   "pygments_lexer": "ipython3",
   "version": "3.10.11"
  }
 },
 "nbformat": 4,
 "nbformat_minor": 5
}
